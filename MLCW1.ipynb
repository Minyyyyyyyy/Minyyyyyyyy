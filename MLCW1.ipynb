{
  "nbformat": 4,
  "nbformat_minor": 0,
  "metadata": {
    "colab": {
      "provenance": [],
      "authorship_tag": "ABX9TyN2R7PAcV2A9u/2CZAlXzKi",
      "include_colab_link": true
    },
    "kernelspec": {
      "name": "python3",
      "display_name": "Python 3"
    },
    "language_info": {
      "name": "python"
    }
  },
  "cells": [
    {
      "cell_type": "markdown",
      "metadata": {
        "id": "view-in-github",
        "colab_type": "text"
      },
      "source": [
        "<a href=\"https://colab.research.google.com/github/Minyyyyyyyy/Minyyyyyyyy/blob/main/MLCW1.ipynb\" target=\"_parent\"><img src=\"https://colab.research.google.com/assets/colab-badge.svg\" alt=\"Open In Colab\"/></a>"
      ]
    },
    {
      "cell_type": "code",
      "execution_count": null,
      "metadata": {
        "id": "jvWRu7QQLXBY"
      },
      "outputs": [],
      "source": [
        "import pandas as pd\n",
        "from sklearn.model_selection import train_test_split\n",
        "from sklearn.preprocessing import LabelEncoder\n",
        "from sklearn.naive_bayes import GaussianNB\n",
        "from sklearn.ensemble import RandomForestClassifier\n",
        "from sklearn.metrics import accuracy_score, precision_score, recall_score, f1_score"
      ]
    },
    {
      "cell_type": "code",
      "source": [
        "# load dataset\n",
        "\n",
        "url = \"https://archive.ics.uci.edu/ml/machine-learning-databases/adult/adult.data\"\n",
        "\n",
        "columns = [\"age\", \"workclass\", \"fnlwgt\", \"education\", \"education-num\", \"marital-status\", \"occupation\",\n",
        "           \"relationship\", \"race\", \"sex\", \"capital-gain\", \"capital-loss\", \"hours-per-week\", \"native-country\", \"income\"]\n",
        "\n",
        "dataset = pd.read_csv(url, names=columns, na_values=\" ?\", skipinitialspace=True)\n",
        "print(dataset.info())"
      ],
      "metadata": {
        "id": "80x0FQCqL_HJ",
        "colab": {
          "base_uri": "https://localhost:8080/"
        },
        "outputId": "3f5c2a74-67fd-41f0-8dc2-febb8ca3ab2b"
      },
      "execution_count": null,
      "outputs": [
        {
          "output_type": "stream",
          "name": "stdout",
          "text": [
            "<class 'pandas.core.frame.DataFrame'>\n",
            "RangeIndex: 32561 entries, 0 to 32560\n",
            "Data columns (total 15 columns):\n",
            " #   Column          Non-Null Count  Dtype \n",
            "---  ------          --------------  ----- \n",
            " 0   age             32561 non-null  int64 \n",
            " 1   workclass       32561 non-null  object\n",
            " 2   fnlwgt          32561 non-null  int64 \n",
            " 3   education       32561 non-null  object\n",
            " 4   education-num   32561 non-null  int64 \n",
            " 5   marital-status  32561 non-null  object\n",
            " 6   occupation      32561 non-null  object\n",
            " 7   relationship    32561 non-null  object\n",
            " 8   race            32561 non-null  object\n",
            " 9   sex             32561 non-null  object\n",
            " 10  capital-gain    32561 non-null  int64 \n",
            " 11  capital-loss    32561 non-null  int64 \n",
            " 12  hours-per-week  32561 non-null  int64 \n",
            " 13  native-country  32561 non-null  object\n",
            " 14  income          32561 non-null  object\n",
            "dtypes: int64(6), object(9)\n",
            "memory usage: 3.7+ MB\n",
            "None\n"
          ]
        }
      ]
    },
    {
      "cell_type": "code",
      "source": [
        "# cleaning\n",
        "import numpy as np\n",
        "from scipy import stats\n",
        "\n",
        "# missing values\n",
        "dataset.dropna(inplace=True)\n",
        "\n",
        "# duplicate entries\n",
        "dataset.drop_duplicates(inplace=True)\n",
        "\n",
        "# converting to lowercase\n",
        "dataset = dataset.apply(lambda x: x.str.lower() if x.dtype == \"object\" else x)\n",
        "\n",
        "# Remove outliers in 'age' feature\n",
        "dataset = dataset[(np.abs(stats.zscore(dataset['age'])) < 3)]\n",
        "\n",
        "print(dataset.info())"
      ],
      "metadata": {
        "colab": {
          "base_uri": "https://localhost:8080/"
        },
        "id": "_iLXeLLLMZzs",
        "outputId": "24f9e341-3963-4d3b-ef4c-0d3f8cfbb28c"
      },
      "execution_count": null,
      "outputs": [
        {
          "output_type": "stream",
          "name": "stdout",
          "text": [
            "<class 'pandas.core.frame.DataFrame'>\n",
            "Int64Index: 32417 entries, 0 to 32560\n",
            "Data columns (total 15 columns):\n",
            " #   Column          Non-Null Count  Dtype \n",
            "---  ------          --------------  ----- \n",
            " 0   age             32417 non-null  int64 \n",
            " 1   workclass       32417 non-null  object\n",
            " 2   fnlwgt          32417 non-null  int64 \n",
            " 3   education       32417 non-null  object\n",
            " 4   education-num   32417 non-null  int64 \n",
            " 5   marital-status  32417 non-null  object\n",
            " 6   occupation      32417 non-null  object\n",
            " 7   relationship    32417 non-null  object\n",
            " 8   race            32417 non-null  object\n",
            " 9   sex             32417 non-null  object\n",
            " 10  capital-gain    32417 non-null  int64 \n",
            " 11  capital-loss    32417 non-null  int64 \n",
            " 12  hours-per-week  32417 non-null  int64 \n",
            " 13  native-country  32417 non-null  object\n",
            " 14  income          32417 non-null  object\n",
            "dtypes: int64(6), object(9)\n",
            "memory usage: 4.0+ MB\n",
            "None\n"
          ]
        }
      ]
    },
    {
      "cell_type": "code",
      "source": [
        "# feature engineering\n",
        "\n",
        "# dataset = pd.get_dummies(dataset, columns=['workclass', 'education', 'marital-status', 'occupation', 'relationship', 'race', 'sex', 'native-country'])\n",
        "\n",
        "# dataset['net-capital'] = dataset['capital-gain'] - dataset['capital-loss']\n",
        "\n",
        "# from sklearn.preprocessing import MinMaxScaler\n",
        "# scaler = MinMaxScaler()\n",
        "# numerical_columns = ['age', 'fnlwgt', 'education-num', 'capital-gain', 'capital-loss', 'hours-per-week', 'net-capital']\n",
        "# dataset[numerical_columns] = scaler.fit_transform(dataset[numerical_columns])\n",
        "\n",
        "# print(dataset.head())\n",
        "\n",
        "dataset['total_capital'] = dataset['capital-gain'] - dataset['capital-loss']\n",
        "\n",
        "dataset['age_group'] = pd.cut(dataset['age'], bins=[0, 25, 40, 60, 100], labels=['young', 'adult', 'middle-aged', 'elderly'])\n",
        "\n",
        "print(dataset.head())"
      ],
      "metadata": {
        "colab": {
          "base_uri": "https://localhost:8080/"
        },
        "id": "zpDFF1p0zToE",
        "outputId": "fa8d28ac-1e11-4954-b851-1cc1a637e7ab"
      },
      "execution_count": null,
      "outputs": [
        {
          "output_type": "stream",
          "name": "stdout",
          "text": [
            "   age  workclass  fnlwgt  education  education-num  marital-status  \\\n",
            "0   39          7   77516          9             13               4   \n",
            "1   50          6   83311          9             13               2   \n",
            "2   38          4  215646         11              9               0   \n",
            "3   53          4  234721          1              7               2   \n",
            "4   28          4  338409          9             13               2   \n",
            "\n",
            "   occupation  relationship  race  sex  capital-gain  capital-loss  \\\n",
            "0           1             1     4    1          2174             0   \n",
            "1           4             0     4    1             0             0   \n",
            "2           6             1     4    1             0             0   \n",
            "3           6             0     2    1             0             0   \n",
            "4          10             5     2    0             0             0   \n",
            "\n",
            "   hours-per-week  native-country  income  total_capital    age_group  \n",
            "0              40              39       0           2174        adult  \n",
            "1              13              39       0              0  middle-aged  \n",
            "2              40              39       0              0        adult  \n",
            "3              40              39       0              0  middle-aged  \n",
            "4              40               5       0              0        adult  \n"
          ]
        }
      ]
    },
    {
      "cell_type": "code",
      "source": [
        "# test train split\n",
        "\n",
        "X = dataset.drop('income', axis=1)\n",
        "y = dataset['income']\n",
        "\n",
        "X_train, X_test, y_train, y_test = train_test_split(X, y, test_size=0.2, random_state=42)\n",
        "\n",
        "print(\"Training set:\")\n",
        "print(X_train.head())\n",
        "print(\"\\nTest set:\")\n",
        "print(X_test.head())"
      ],
      "metadata": {
        "colab": {
          "base_uri": "https://localhost:8080/"
        },
        "id": "P0aQ8sC94KE2",
        "outputId": "28b1f079-efb3-47e2-fca3-1db02f3b6ee8"
      },
      "execution_count": null,
      "outputs": [
        {
          "output_type": "stream",
          "name": "stdout",
          "text": [
            "Training set:\n",
            "       age  workclass  fnlwgt  education  education-num  marital-status  \\\n",
            "5063    44          4  111067         15             10               2   \n",
            "26714   27          1  257124          9             13               4   \n",
            "13711   56          0  154537         15             10               0   \n",
            "30573   34          4  112564         11              9               2   \n",
            "6454    40          4  104719         15             10               2   \n",
            "\n",
            "       occupation  relationship  race  sex  capital-gain  capital-loss  \\\n",
            "5063            3             0     4    1             0             0   \n",
            "26714          14             2     4    1             0             0   \n",
            "13711           0             4     4    0             0             0   \n",
            "30573          14             0     4    1             0             0   \n",
            "6454            6             0     4    1             0             0   \n",
            "\n",
            "       hours-per-week  native-country  \n",
            "5063               40              39  \n",
            "26714              35              39  \n",
            "13711              50              39  \n",
            "30573              45              39  \n",
            "6454               40              39  \n",
            "\n",
            "Test set:\n",
            "       age  workclass  fnlwgt  education  education-num  marital-status  \\\n",
            "17190   23          4  104443         15             10               4   \n",
            "1094    21          4  163870         15             10               4   \n",
            "4778    28          0  200819          5              4               0   \n",
            "28668   31          4  215047          9             13               4   \n",
            "15175   28          4  199903          9             13               4   \n",
            "\n",
            "       occupation  relationship  race  sex  capital-gain  capital-loss  \\\n",
            "17190           1             3     4    0             0             0   \n",
            "1094            1             3     4    1             0             0   \n",
            "4778            0             3     4    1             0             0   \n",
            "28668           1             1     4    1             0             0   \n",
            "15175           1             1     4    0             0             0   \n",
            "\n",
            "       hours-per-week  native-country  \n",
            "17190              40              39  \n",
            "1094               40              39  \n",
            "4778               84              39  \n",
            "28668              50              39  \n",
            "15175              20              39  \n"
          ]
        }
      ]
    }
  ]
}